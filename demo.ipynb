{
 "cells": [
  {
   "cell_type": "markdown",
   "metadata": {},
   "source": [
    "# A simple demo of the package"
   ]
  },
  {
   "cell_type": "code",
   "execution_count": null,
   "metadata": {},
   "outputs": [],
   "source": [
    "##conda create -n rrr glmnet_py scanpy jupyterlab pandas scikit-learn openpyxl xlrd"
   ]
  },
  {
   "cell_type": "code",
   "execution_count": null,
   "metadata": {},
   "outputs": [],
   "source": [
    "##%matplotlib notebook\n",
    "%run ../notebooks_trials_py/paper_00_config.ipynb\n",
    "import numpy as np\n",
    "import matplotlib as mpl\n",
    "import matplotlib.pyplot as plt\n",
    "import seaborn as sns; sns.set()\n",
    "import pickle\n",
    "import sparseRRR"
   ]
  },
  {
   "cell_type": "code",
   "execution_count": null,
   "metadata": {},
   "outputs": [],
   "source": [
    "import glmnet_python"
   ]
  },
  {
   "cell_type": "code",
   "execution_count": null,
   "metadata": {},
   "outputs": [],
   "source": [
    "def preprocess(data,normalize='cpm'):\n",
    "    X = data['counts'][:,data['mostVariableGenes']] / np.sum(data['counts'], axis=1)\n",
    "    if normalize=='cpm':\n",
    "        X *= 1e+6\n",
    "    elif normalize=='median':\n",
    "        X *= np.median(np.array(np.sum(data['counts'],axis=1)))\n",
    "    X = np.array(X)\n",
    "    X = np.log2(X + 1)\n",
    "    X = X - np.mean(X, axis=0)\n",
    "    X = X / np.std(X, axis=0)\n",
    "\n",
    "    Y = data['ephys']\n",
    "    Y = Y - np.mean(Y, axis=0)\n",
    "    Y = Y / np.std(Y, axis=0)\n",
    "    \n",
    "    return (X,Y)"
   ]
  },
  {
   "cell_type": "code",
   "execution_count": null,
   "metadata": {},
   "outputs": [],
   "source": [
    "def format_scala2020():\n",
    "    data = pickle.load(open('data/scala2020.pickle', 'rb'))\n",
    "    data[\"counts\"]=data[\"counts\"].todense()\n",
    "    cl=sorted(set(data['ttype']))\n",
    "    data['colors']=dict( zip(cl, [mpl.colors.rgb2hex(c) for c in mpl.cm.get_cmap('deep',len(cl)).colors]))\n",
    "    return data"
   ]
  },
  {
   "cell_type": "code",
   "execution_count": null,
   "metadata": {},
   "outputs": [],
   "source": [
    "def format_scala2019():\n",
    "    data = pickle.load(open('data/scala2019.pickle', 'rb'))\n",
    "    data[\"counts\"]=data[\"counts\"].todense()\n",
    "    #data['ttype']=data['regions'] \n",
    "    data['ttype']=data['layers']\n",
    "    cl=sorted(set(data['ttype']))\n",
    "    data['colors']=dict( zip(cl, [mpl.colors.rgb2hex(c) for c in mpl.cm.get_cmap('tab20',len(cl)).colors]))\n",
    "    return data"
   ]
  },
  {
   "cell_type": "code",
   "execution_count": null,
   "metadata": {},
   "outputs": [],
   "source": [
    "def format_cadwell():\n",
    "    data = pickle.load(open('data/cadwell2016.pickle', 'rb'))\n",
    "    data[\"counts\"]=data[\"counts\"].todense()\n",
    "    data['ttype']=data['cellTypes']\n",
    "    genes = data['genes'][data['mostVariableGenes']]\n",
    "    cl=sorted(set(data['ttype']))\n",
    "    data['colors']=dict( zip(cl, [mpl.colors.rgb2hex(c) for c in mpl.cm.get_cmap('tab20',len(cl)).colors]))\n",
    "    return data"
   ]
  },
  {
   "cell_type": "code",
   "execution_count": null,
   "metadata": {},
   "outputs": [],
   "source": [
    "def format_gouwen():\n",
    "    data = pickle.load(open('data/gouwens2020.pickle', 'rb'))\n",
    "    data[\"counts\"]=data[\"counts\"].todense().astype(np.float64)##np.asarray(np.expm1(data['counts']).astype(int))\n",
    "    genes = data['genes'][data['mostVariableGenes']]\n",
    "    cl=sorted(set(data['ttype']))\n",
    "    data['colors']=dict( zip(cl, [mpl.colors.rgb2hex(c) for c in mpl.cm.get_cmap('tab20',len(cl)).colors]))\n",
    "    return data"
   ]
  },
  {
   "cell_type": "code",
   "execution_count": null,
   "metadata": {},
   "outputs": [],
   "source": [
    "def format_fuzik():\n",
    "    data = pickle.load(open('data/fuzik2016.pickle', 'rb'))\n",
    "    data[\"counts\"]=data[\"counts\"].todense()\n",
    "    data['ttype']=data['cluster']\n",
    "    cl=sorted(set(data['ttype']))\n",
    "    data['colors']=dict( zip(cl, [mpl.colors.rgb2hex(c) for c in mpl.cm.get_cmap('tab20',len(cl)).colors]))\n",
    "    return data"
   ]
  },
  {
   "cell_type": "code",
   "execution_count": null,
   "metadata": {},
   "outputs": [],
   "source": [
    "## the next cell assumes that you have preprocessed anndata objects for your rnaseq data."
   ]
  },
  {
   "cell_type": "code",
   "execution_count": null,
   "metadata": {},
   "outputs": [],
   "source": [
    "ephy_reduced_features=['IV_resistance', 'IV_baseline', 'IV_first_spike_amplitude', 'IV_first_spike_threshold',\n",
    " 'IV_first_spike_thr2ahp', 'IV_first_spike_delay', 'IV_first_spike_half_width','IV_first_spike_max_fall_slope', \n",
    " 'IV_first_spike_max_rise_slope','IV_max_nb_spikes', 'IV_rebound_spikes_(-50.0 pA)', 'IV_rheobase',\n",
    " 'IV_sagratio_I=-80.0 pA', 'IV_tc', 'IV_rheo_nb_spikes','SYN_evt_overallfreq', 'SYN_evt_wtc_mean',\n",
    "  'IV_first_spike_interval', 'IV_max_duration', 'IV_gain', 'IV_sfa_freq_log',\n",
    "  'IV_sfa_peak_log', 'RAMP_iorect_40_over_120',\n",
    "    ]\n",
    "ephy_reduced_features2=['IV_resistance', \n",
    "                       'IV_baseline', \n",
    "                       #'IV_first_spike_amplitude', \n",
    "                       'IV_first_spike_threshold',\n",
    "                       'IV_max_freq',\n",
    "                       'IV_mAHP_min',\n",
    "                       'IV_first_spike_thr2ahp', \n",
    "                       #'IV_first_spike_delay', \n",
    "                       'IV_first_spike_half_width',\n",
    "                        #'IV_first_spike_max_fall_slope', \n",
    "                        #'IV_first_spike_max_rise_slope',\n",
    "                        #'IV_max_nb_spikes', \n",
    "                       'IV_rheobase',\n",
    "                        'IV_sagratio_I=-80.0 pA', 'IV_tc',\n",
    "                        #'IV_first_spike_interval', \n",
    "                        #'IV_max_duration', #'IV_gain', #'IV_sfa_freq_log',\n",
    "                        #'IV_sfa_peak_log', #'RAMP_iorect_40_over_120',\n",
    "                       'SYN_evt_ampl_mean'\n",
    "                      ]\n",
    "import anndata\n",
    "def format_pseq(colorby='groups'):\n",
    "    rna=anndata.read_h5ad(\"rna.h5ad\")\n",
    "    ephy=anndata.read_h5ad(f\"{mtxdir}/h5ad/pain/pain_ephy.h5ad\")\n",
    "    ephy=ephy[rna.obs.index.to_list(),ephy_reduced_features]\n",
    "    ## discard some cells with missing features. or indrf\n",
    "    notna=ephy.to_df().dropna(axis=0).index.to_list()\n",
    "    #notna=[x for x in notna if x.endswith('s')]\n",
    "    ephy=ephy[notna,:].copy()\n",
    "    rna=rna[notna,:].copy()\n",
    "    rna=rna[:,np.std(rna.X,axis=0)>0].copy()\n",
    "    \n",
    "    cl=sorted(set(rna.obs[colorby]))\n",
    "    colors=dict( zip(cl, [mpl.colors.rgb2hex(c) for c in mpl.cm.get_cmap('tab10',len(cl)).colors]))\n",
    "    data={\n",
    "        'counts':np.asmatrix(rna.X),\n",
    "        'cells':ephy.obs_names.to_numpy(),\n",
    "        'genes':rna.var_names.to_numpy(),\n",
    "        'mostVariableGenes':rna.var[\"hvg\"],\n",
    "        'ephys':ephy.X,\n",
    "        'ephysNames':ephy.var_names.to_numpy(),\n",
    "        'ttype':rna.obs[colorby].to_numpy(),\n",
    "        'colors': colors\n",
    "           }\n",
    "    return data"
   ]
  },
  {
   "cell_type": "code",
   "execution_count": null,
   "metadata": {},
   "outputs": [],
   "source": [
    "data=format_pseq()"
   ]
  },
  {
   "cell_type": "code",
   "execution_count": null,
   "metadata": {},
   "outputs": [],
   "source": [
    "assert( np.sum(np.std(data[\"counts\"], axis=0)==0)==0 )"
   ]
  },
  {
   "cell_type": "code",
   "execution_count": null,
   "metadata": {},
   "outputs": [],
   "source": [
    "X,Y = preprocess(data)\n",
    "X=X.astype(np.float64)\n",
    "Y=Y.astype(np.float64)\n",
    "genes = data['genes'][data['mostVariableGenes']]\n",
    "\n",
    "print('Shape of X:', X.shape, '\\nShape of Y:', Y.shape)"
   ]
  },
  {
   "cell_type": "code",
   "execution_count": null,
   "metadata": {},
   "outputs": [],
   "source": [
    "%time \n",
    "#w,v = sparseRRR.relaxed_elastic_rrr(X, Y, rank=2, lambdau=.4, alpha=1)\n",
    "#w,v = sparseRRR.relaxed_elastic_rrr(X, Y, rank=2, lambdau=.4, alpha=0.2)\n",
    "w,v = sparseRRR.relaxed_elastic_rrr(X, Y, rank=2, lambdau=0.4, alpha=0.75)\n",
    "\n",
    "print('\\nGenes selected: {}'.format(np.sum(w[:,0]!=0)))\n",
    "print(', '.join(genes[w[:,0]!=0]))\n",
    "#%matplotlib inline\n",
    "\n",
    "sparseRRR.bibiplot(X, Y, w, v, \n",
    "                   titles = ['RNA expression', 'Electrophysiology'],\n",
    "                   cellTypes = data['ttype'], \n",
    "                   cellTypeColors = data['colors'], \n",
    "                   YdimsNames = data['ephysNames'], \n",
    "                   XdimsNames = genes)"
   ]
  },
  {
   "cell_type": "code",
   "execution_count": null,
   "metadata": {},
   "outputs": [],
   "source": [
    "lambdas = np.concatenate((np.arange(.2,1.01,.1), np.arange(2,10)))\n",
    "alphas = np.array([.25, .5, .75, 1])\n",
    "\n",
    "cvResults = sparseRRR.elastic_rrr_cv(X, Y, rank=4,alphas=alphas, lambdas=lambdas)\n",
    "\n",
    "sparseRRR.plot_cv_results(*cvResults, alphas)"
   ]
  },
  {
   "cell_type": "code",
   "execution_count": null,
   "metadata": {},
   "outputs": [],
   "source": [
    "##%time bootCounts = sparseRRR.elastic_rrr_bootstrap(X, Y, lambdau=.4, alpha=1)\n",
    "%time bootCounts = sparseRRR.elastic_rrr_bootstrap(X, Y, lambdau=0.2, alpha=1.0)\n",
    "\n",
    "args = np.argsort(bootCounts)[::-1]\n",
    "print('')\n",
    "for i in range(20):\n",
    "    print('{:10} {:.2f}'.format(genes[args[i]], bootCounts[args[i]]))"
   ]
  },
  {
   "cell_type": "code",
   "execution_count": null,
   "metadata": {},
   "outputs": [],
   "source": [
    "# A quick and dirty way to estimate the dimensionality\n",
    "\n",
    "%time sparseRRR.dimensionality(X, Y)"
   ]
  },
  {
   "cell_type": "code",
   "execution_count": null,
   "metadata": {},
   "outputs": [],
   "source": [
    "for i in range(40):\n",
    "    print('{:10} {:.2f}'.format(genes[args[i]], bootCounts[args[i]]))"
   ]
  },
  {
   "cell_type": "code",
   "execution_count": null,
   "metadata": {},
   "outputs": [],
   "source": []
  }
 ],
 "metadata": {
  "kernelspec": {
   "display_name": "Python 3 (ipykernel)",
   "language": "python",
   "name": "python3"
  },
  "language_info": {
   "codemirror_mode": {
    "name": "ipython",
    "version": 3
   },
   "file_extension": ".py",
   "mimetype": "text/x-python",
   "name": "python",
   "nbconvert_exporter": "python",
   "pygments_lexer": "ipython3",
   "version": "3.10.15"
  }
 },
 "nbformat": 4,
 "nbformat_minor": 4
}
