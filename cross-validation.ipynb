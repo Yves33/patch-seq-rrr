{
 "cells": [
  {
   "cell_type": "markdown",
   "metadata": {},
   "source": [
    "# Perform and pickle cross-validation for all datasets"
   ]
  },
  {
   "cell_type": "code",
   "execution_count": null,
   "metadata": {},
   "outputs": [],
   "source": [
    "%matplotlib notebook\n",
    "\n",
    "import numpy as np\n",
    "import pylab as plt\n",
    "import seaborn as sns\n",
    "import pickle\n",
    "import matplotlib\n",
    "\n",
    "import sparseRRR"
   ]
  },
  {
   "cell_type": "code",
   "execution_count": null,
   "metadata": {},
   "outputs": [],
   "source": [
    "def preprocess(data, normalize='cpm'):\n",
    "    X = data['counts'][:,data['mostVariableGenes']] / np.sum(data['counts'], axis=1)\n",
    "    if normalize=='cpm':\n",
    "        X *= 1e+6\n",
    "    elif normalize=='median':\n",
    "        X *= np.median(np.array(np.sum(data['counts'],axis=1)))\n",
    "    X = np.array(X)\n",
    "    X = np.log2(X + 1)\n",
    "    X = X - np.mean(X, axis=0)\n",
    "    X = X / np.std(X, axis=0)\n",
    "\n",
    "    Y = data['ephys']\n",
    "    Y = Y - np.mean(Y, axis=0)\n",
    "    Y = Y / np.std(Y, axis=0)\n",
    "    \n",
    "    return (X,Y)"
   ]
  },
  {
   "cell_type": "markdown",
   "metadata": {},
   "source": [
    "## The main cross-validation setup"
   ]
  },
  {
   "cell_type": "code",
   "execution_count": null,
   "metadata": {},
   "outputs": [],
   "source": [
    "data = pickle.load(open('data/scala2020.pickle', 'rb'))\n",
    "X,Y = preprocess(data)\n",
    "print('Shape of X:', X.shape, '\\nShape of Y:', Y.shape)"
   ]
  },
  {
   "cell_type": "code",
   "execution_count": null,
   "metadata": {},
   "outputs": [],
   "source": [
    "%%time\n",
    "\n",
    "lambdas = np.concatenate((np.arange(.1,1,.1), np.arange(1,11)))\n",
    "alphas = np.array([.25, .5, .75, 1])\n",
    "\n",
    "cvresults = sparseRRR.elastic_rrr_cv(X, Y, rank=2, reps=1, folds=10, alphas=alphas, lambdas=lambdas)\n",
    "\n",
    "alphas = np.array([1])\n",
    "ranks = np.arange(1, Y.shape[1]+1)\n",
    "\n",
    "cvresults_rank = {}\n",
    "for r in ranks:\n",
    "    cvresults_rank[r] = sparseRRR.elastic_rrr_cv(X, Y, rank=r, reps=1, folds=10, alphas=alphas, lambdas=lambdas)\n",
    "    \n",
    "pickle.dump([cvresults, cvresults_rank], open('pickles/cvresults-scala2020.pickle', 'wb'))"
   ]
  },
  {
   "cell_type": "code",
   "execution_count": null,
   "metadata": {},
   "outputs": [],
   "source": [
    "data = pickle.load(open('data/scala2019.pickle', 'rb'))\n",
    "X,Y = preprocess(data)\n",
    "print('Shape of X:', X.shape, '\\nShape of Y:', Y.shape)"
   ]
  },
  {
   "cell_type": "code",
   "execution_count": null,
   "metadata": {},
   "outputs": [],
   "source": [
    "%%time\n",
    "\n",
    "lambdas = np.concatenate([np.arange(.1,3,.1), np.arange(3,11)])\n",
    "alphas = [.25, .5, .75, 1]\n",
    "\n",
    "cvresults = sparseRRR.elastic_rrr_cv(X, Y, rank=2, reps=10, folds=10, alphas=alphas, lambdas=lambdas)\n",
    "\n",
    "alphas = np.array([.5])\n",
    "ranks = np.arange(1, Y.shape[1]+1)\n",
    "\n",
    "cvresults_rank = {}\n",
    "for r in ranks:\n",
    "    cvresults_rank[r] = sparseRRR.elastic_rrr_cv(X, Y, lambdas=lambdas, alphas=alphas, reps=10, rank=r, folds=10)\n",
    "    \n",
    "pickle.dump([cvresults, cvresults_rank], open('pickles/cvresults-scala2019.pickle', 'wb'))"
   ]
  },
  {
   "cell_type": "code",
   "execution_count": null,
   "metadata": {},
   "outputs": [],
   "source": [
    "data = pickle.load(open('data/cadwell2016.pickle', 'rb'))\n",
    "X,Y = preprocess(data)\n",
    "print('Shape of X:', X.shape, '\\nShape of Y:', Y.shape)"
   ]
  },
  {
   "cell_type": "code",
   "execution_count": null,
   "metadata": {},
   "outputs": [],
   "source": [
    "%%time\n",
    "\n",
    "lambdas = np.concatenate([np.arange(.1,3,.1), np.arange(3,11)])\n",
    "alphas = [.25, .5, .75, 1]\n",
    "\n",
    "cvresults = sparseRRR.elastic_rrr_cv(X, Y, rank=2, reps=10, folds=11, alphas=alphas, lambdas=lambdas)\n",
    "\n",
    "alphas = np.array([.5])\n",
    "ranks = np.arange(1, Y.shape[1]+1)\n",
    "\n",
    "cvresults_rank = {}\n",
    "for r in ranks:\n",
    "    cvresults_rank[r] = sparseRRR.elastic_rrr_cv(X, Y, lambdas=lambdas, alphas=alphas, reps=10, rank=r, folds=11)\n",
    "    \n",
    "pickle.dump([cvresults, cvresults_rank], open('pickles/cvresults-cadwell2016.pickle', 'wb'))"
   ]
  },
  {
   "cell_type": "code",
   "execution_count": null,
   "metadata": {},
   "outputs": [],
   "source": [
    "data = pickle.load(open('data/fuzik2016.pickle', 'rb'))\n",
    "X,Y = preprocess(data, normalize='median')\n",
    "print('Shape of X:', X.shape, '\\nShape of Y:', Y.shape)"
   ]
  },
  {
   "cell_type": "code",
   "execution_count": null,
   "metadata": {},
   "outputs": [],
   "source": [
    "lambdas = np.arange(.1,6,.25)\n",
    "alphas = np.array([.5])\n",
    "ranks = np.array([1,2])\n",
    "\n",
    "cvresults = {}\n",
    "for r in ranks:\n",
    "    cvresults[r] = sparseRRR.elastic_rrr_cv(X, Y, lambdas=lambdas, alphas=alphas, reps=10, rank=r, folds=10)\n",
    "    \n",
    "pickle.dump(cvresults, open('pickles/cvresults-fuzik2016.pickle', 'wb'))"
   ]
  },
  {
   "cell_type": "code",
   "execution_count": null,
   "metadata": {},
   "outputs": [],
   "source": [
    "data = pickle.load(open('data/gouwens2020.pickle', 'rb'))\n",
    "# Already preprocessed\n",
    "X=data['counts'].toarray().astype('float64')\n",
    "Y=data['ephys']\n",
    "print('Shape of X:', X.shape, '\\nShape of Y:', Y.shape)"
   ]
  },
  {
   "cell_type": "code",
   "execution_count": null,
   "metadata": {},
   "outputs": [],
   "source": [
    "%%time\n",
    "\n",
    "lambdas = np.concatenate((np.arange(.3,1,.1), np.arange(1,11)))\n",
    "alphas = np.array([.25, .5, .75, 1])\n",
    "\n",
    "cvresults = sparseRRR.elastic_rrr_cv(X, Y, rank=2, reps=1, folds=10, alphas=alphas, lambdas=lambdas)\n",
    "\n",
    "alphas = np.array([1])\n",
    "lambdas = lambdas = np.concatenate((np.arange(.3,1,.1), np.arange(1,11)))\n",
    "ranks = np.arange(1, 17)\n",
    "\n",
    "cvresults_rank = {}\n",
    "for r in ranks:\n",
    "    cvresults_rank[r] = sparseRRR.elastic_rrr_cv(X, Y, rank=r, reps=1, folds=10, alphas=alphas, lambdas=lambdas)\n",
    "    \n",
    "pickle.dump([cvresults, cvresults_rank], open('pickles/cvresults-gouwens2020.pickle', 'wb'))"
   ]
  },
  {
   "cell_type": "markdown",
   "metadata": {},
   "source": [
    "## Nested CV"
   ]
  },
  {
   "cell_type": "code",
   "execution_count": null,
   "metadata": {},
   "outputs": [],
   "source": [
    "data = pickle.load(open('data/scala2020.pickle', 'rb'))\n",
    "X,Y = preprocess(data)\n",
    "print('Shape of X:', X.shape, '\\nShape of Y:', Y.shape, '\\n')\n",
    "\n",
    "lambdas = np.concatenate([np.arange(.1,1,.1), np.arange(1,11)])\n",
    "alphas = np.array([.25, .5, .75, 1])\n",
    "%time sparseRRR.nested_cv(X, Y, lambdas, alphas)"
   ]
  },
  {
   "cell_type": "code",
   "execution_count": null,
   "metadata": {},
   "outputs": [],
   "source": [
    "data = pickle.load(open('data/scala2019.pickle', 'rb'))\n",
    "X,Y = preprocess(data)\n",
    "print('Shape of X:', X.shape, '\\nShape of Y:', Y.shape, '\\n')\n",
    "\n",
    "lambdas = np.concatenate([np.arange(.1,3,.1), np.arange(3,11)])\n",
    "alphas = np.array([.25, .5, .75, 1])\n",
    "%time sparseRRR.nested_cv(X, Y, lambdas, alphas)"
   ]
  },
  {
   "cell_type": "code",
   "execution_count": null,
   "metadata": {},
   "outputs": [],
   "source": [
    "data = pickle.load(open('data/cadwell2016.pickle', 'rb'))\n",
    "X,Y = preprocess(data)\n",
    "print('Shape of X:', X.shape, '\\nShape of Y:', Y.shape, '\\n')\n",
    "\n",
    "lambdas = np.concatenate([np.arange(.1,3,.1), np.arange(3,11)])\n",
    "alphas = np.array([.25, .5, .75, 1])\n",
    "%time sparseRRR.nested_cv(X, Y, lambdas, alphas)"
   ]
  },
  {
   "cell_type": "code",
   "execution_count": null,
   "metadata": {},
   "outputs": [],
   "source": [
    "data = pickle.load(open('data/gouwens2020.pickle', 'rb'))\n",
    "# Already preprocessed\n",
    "X=data['counts'].toarray().astype('float64')\n",
    "Y=data['ephys']\n",
    "print('Shape of X:', X.shape, '\\nShape of Y:', Y.shape, '\\n')\n",
    "\n",
    "lambdas = np.concatenate((np.arange(.3,1,.1), np.arange(1,11)))\n",
    "alphas = np.array([.25, .5, .75, 1])\n",
    "%time sparseRRR.nested_cv(X, Y, lambdas, alphas)"
   ]
  },
  {
   "cell_type": "markdown",
   "metadata": {},
   "source": [
    "## Preprocessing variants"
   ]
  },
  {
   "cell_type": "code",
   "execution_count": null,
   "metadata": {},
   "outputs": [],
   "source": [
    "import rnaseqTools\n",
    "\n",
    "def cv_preprocessing_variants(data, filename, lambdas=[1,2,3], alpha=.5, reps=1, folds=10, n_genes=1000):\n",
    "    X,Y = preprocess(data)\n",
    "\n",
    "    alphas = np.array([alpha])\n",
    "    cv1 = sparseRRR.elastic_rrr_cv(X, Y, rank=2, reps=reps, \n",
    "                                   folds=folds, alphas=alphas, lambdas=lambdas)\n",
    "\n",
    "    X = data['counts'][:,data['mostVariableGenes']] / np.sum(data['counts'], axis=1) * 1e+6\n",
    "    X = np.array(X)\n",
    "    X = np.log2(X + 1)\n",
    "    X = X - np.mean(X, axis=0)\n",
    "    cv2 = sparseRRR.elastic_rrr_cv(X, Y, rank=2, reps=reps,\n",
    "                                   folds=folds, alphas=alphas, lambdas=lambdas)\n",
    "\n",
    "    X = data['counts'] / np.sum(data['counts'], axis=1) * 1e+6\n",
    "    X = np.array(X)\n",
    "    X = np.log2(X + 1)\n",
    "    ind = np.sum(X, axis=0) > 0\n",
    "    X = X - np.mean(X, axis=0)\n",
    "    cv4 = sparseRRR.elastic_rrr_cv(X, Y, rank=2, reps=reps,\n",
    "                                   folds=folds, alphas=alphas, lambdas=lambdas)\n",
    "\n",
    "    X = X[:, ind]\n",
    "    X = X / np.std(X, axis=0)\n",
    "    cv3 = sparseRRR.elastic_rrr_cv(X, Y, rank=2, reps=reps,\n",
    "                                   folds=folds, alphas=alphas, lambdas=lambdas)\n",
    "    \n",
    "    \n",
    "    def cv_preprocess(Xtrain, Xtest, n_genes=n_genes):\n",
    "        mostVariableGenes = rnaseqTools.geneSelection(Xtrain, n=n_genes, threshold=32, plot=False, verbose=0)\n",
    "\n",
    "        X = Xtrain[:,mostVariableGenes] / np.sum(Xtrain, axis=1, keepdims=True) * 1e+6\n",
    "        X = np.array(X)\n",
    "        X = np.log2(X + 1)\n",
    "        ind = np.sum(X, axis=0) > 0\n",
    "        X = X[:, ind]\n",
    "        mu = np.mean(X, axis=0)\n",
    "        std = np.std(X, axis=0)\n",
    "        X = (X - mu) / std\n",
    "    \n",
    "        Xt = Xtest[:,mostVariableGenes] / np.sum(Xtest, axis=1, keepdims=True) * 1e+6\n",
    "        Xt = np.array(Xt)\n",
    "        Xt = np.log2(Xt + 1)\n",
    "        Xt = Xt[:, ind]\n",
    "        Xt = (Xt - mu) / std\n",
    "    \n",
    "        return(X, Xt) \n",
    "    \n",
    "    X = np.array(data['counts'].todense())\n",
    "    cv5 = sparseRRR.elastic_rrr_cv(X, Y, rank=2, reps=reps,     \n",
    "                                   folds=folds, alphas=alphas, lambdas=lambdas,\n",
    "                                   preprocess = cv_preprocess)\n",
    "\n",
    "    pickle.dump([cv1, cv2, cv3, cv4, cv5], open(filename, 'wb'))"
   ]
  },
  {
   "cell_type": "code",
   "execution_count": null,
   "metadata": {},
   "outputs": [],
   "source": [
    "data = pickle.load(open('data/scala2020.pickle', 'rb'))\n",
    "lambdas = np.concatenate((np.arange(.1,1,.1), np.arange(1,11)))\n",
    "cv_preprocessing_variants(data, 'pickles/cvresults-scala2020-variants.pickle', \n",
    "                          lambdas=lambdas, alpha=1, reps=1, folds=10)"
   ]
  },
  {
   "cell_type": "code",
   "execution_count": null,
   "metadata": {},
   "outputs": [],
   "source": [
    "data = pickle.load(open('data/scala2019.pickle', 'rb'))\n",
    "lambdas = np.concatenate([np.arange(.1,3,.1), np.arange(3,11)])\n",
    "cv_preprocessing_variants(data, 'pickles/cvresults-scala2019-variants.pickle', \n",
    "                          lambdas=lambdas, alpha=.5, reps=10, folds=10)"
   ]
  },
  {
   "cell_type": "code",
   "execution_count": null,
   "metadata": {},
   "outputs": [],
   "source": [
    "data = pickle.load(open('data/cadwell2016.pickle', 'rb'))\n",
    "lambdas = np.concatenate([np.arange(.1,3,.1), np.arange(3,11)])\n",
    "cv_preprocessing_variants(data, 'pickles/cvresults-cadwell2016-variants.pickle', \n",
    "                          lambdas=lambdas, alpha=.5, reps=10, folds=11, n_genes=3000)"
   ]
  },
  {
   "cell_type": "markdown",
   "metadata": {},
   "source": [
    "## Witten and Suo comparisons"
   ]
  },
  {
   "cell_type": "code",
   "execution_count": null,
   "metadata": {},
   "outputs": [],
   "source": [
    "# from rpy2.robjects.packages import importr\n",
    "# utils = importr('utils')\n",
    "# utils.install_packages('PMA')"
   ]
  },
  {
   "cell_type": "code",
   "execution_count": null,
   "metadata": {},
   "outputs": [],
   "source": [
    "import rpy2.robjects.numpy2ri\n",
    "rpy2.robjects.numpy2ri.activate()\n",
    "\n",
    "from rpy2.robjects.packages import importr\n",
    "pma = importr(\"PMA\")\n",
    "\n",
    "def witten(X, Y, ncomps=1, lx=1):\n",
    "    out = pma.CCA(X, Y, typex=\"standard\", typez=\"standard\", standardize=False, \n",
    "                  K=ncomps, penaltyx=lx)\n",
    "    d = { key : out.rx2(key) for key in out.names }\n",
    "    w = np.asarray(d['u'])\n",
    "    v = np.asarray(d['v'])\n",
    "    return (w,v)\n",
    "\n",
    "def witten_cv(X, Y, reg_params, reps=1, folds=10, seed=42, ncomps=1):\n",
    "    n = X.shape[0]\n",
    "    testcorrs = np.zeros((folds, reps, len(reg_params), ncomps))\n",
    "    nonzero = np.zeros((folds, reps, len(reg_params), ncomps))\n",
    "\n",
    "    # CV repetitions\n",
    "    np.random.seed(seed)\n",
    "    for rep in range(reps):\n",
    "        print('.', end='')\n",
    "        ind = np.random.permutation(n)\n",
    "        X = X[ind,:]\n",
    "        Y = Y[ind,:]\n",
    "        \n",
    "        # CV folds\n",
    "        for cvfold in range(folds):\n",
    "            indtest  = np.arange(cvfold*int(n/folds), (cvfold+1)*int(n/folds))\n",
    "            indtrain = np.setdiff1d(np.arange(n), indtest)\n",
    "            Xtrain = np.copy(X[indtrain,:])\n",
    "            Ytrain = np.copy(Y[indtrain,:])\n",
    "            Xtest  = np.copy(X[indtest,:])\n",
    "            Ytest  = np.copy(Y[indtest,:])\n",
    "            \n",
    "            # mean centering\n",
    "            X_mean = np.mean(Xtrain, axis=0)\n",
    "            Xtrain -= X_mean\n",
    "            Xtest  -= X_mean\n",
    "            Y_mean = np.mean(Ytrain, axis=0)\n",
    "            Ytrain -= Y_mean\n",
    "            Ytest  -= Y_mean\n",
    "\n",
    "            # loop over regularization parameters\n",
    "            for i,r in enumerate(reg_params):    \n",
    "                vx,vy = witten(Xtrain, Ytrain, ncomps=ncomps, lx=r)\n",
    "                \n",
    "                if np.sum(np.sum(vx!=0,axis=0)==0)>0 or np.sum(np.sum(vy!=0,axis=0)==0)>0:\n",
    "                    nonzero[cvfold, rep, i, :] = np.nan\n",
    "                    continue\n",
    "                \n",
    "                for ncomp in range(ncomps):\n",
    "                    testcorrs[cvfold, rep, i, ncomp] = np.corrcoef((Xtest @ vx[:,ncomp]).T, \n",
    "                                                                   (Ytest @ vy[:,ncomp]).T)[0,1]\n",
    "                    nonzero[cvfold, rep, i, ncomp] = np.sum(vx[:,ncomp]!=0)\n",
    "        \n",
    "    print(' done')\n",
    "    return testcorrs, nonzero"
   ]
  },
  {
   "cell_type": "code",
   "execution_count": null,
   "metadata": {},
   "outputs": [],
   "source": [
    "data = pickle.load(open('data/scala2020.pickle', 'rb'))\n",
    "X,Y = preprocess(data)\n",
    "\n",
    "lx_scan = np.arange(.05, .20, .01)\n",
    "%time corr_witten, nonz_witten = witten_cv(X, Y, lx_scan, ncomps=2, reps=1)\n",
    "\n",
    "pickle.dump([corr_witten, nonz_witten], \n",
    "           open('pickles/cvresults-scala2020-witten.pickle', 'wb'))"
   ]
  },
  {
   "cell_type": "code",
   "execution_count": null,
   "metadata": {
    "scrolled": true
   },
   "outputs": [],
   "source": [
    "data = pickle.load(open('data/scala2019.pickle', 'rb'))\n",
    "X,Y = preprocess(data)\n",
    "\n",
    "lx_scan = np.arange(.05, .20, .01)\n",
    "%time corr_witten, nonz_witten = witten_cv(X, Y, lx_scan, ncomps=2, reps=1)\n",
    "\n",
    "pickle.dump([corr_witten, nonz_witten], \n",
    "           open('pickles/cvresults-scala2019-witten.pickle', 'wb'))"
   ]
  },
  {
   "cell_type": "code",
   "execution_count": null,
   "metadata": {},
   "outputs": [],
   "source": [
    "data = pickle.load(open('data/cadwell2016.pickle', 'rb'))\n",
    "X,Y = preprocess(data)\n",
    "\n",
    "lx_scan = np.arange(.05, .20, .01)\n",
    "%time corr_witten, nonz_witten = witten_cv(X, Y, lx_scan, ncomps=2, reps=1)\n",
    "\n",
    "pickle.dump([corr_witten, nonz_witten], \n",
    "           open('pickles/cvresults-cadwell2016-witten.pickle', 'wb'))"
   ]
  },
  {
   "cell_type": "code",
   "execution_count": null,
   "metadata": {
    "scrolled": true
   },
   "outputs": [],
   "source": [
    "data = pickle.load(open('data/gouwens2020.pickle', 'rb'))\n",
    "# Already preprocessed\n",
    "X=data['counts'].toarray().astype('float64')\n",
    "Y=data['ephys']\n",
    "\n",
    "lx_scan = np.arange(.05, .20, .01)\n",
    "%time corr_witten, nonz_witten = witten_cv(X, Y, lx_scan, ncomps=2, reps=1)\n",
    "\n",
    "pickle.dump([corr_witten, nonz_witten], \n",
    "           open('pickles/cvresults-gouwens2020-witten.pickle', 'wb'))"
   ]
  }
 ],
 "metadata": {
  "kernelspec": {
   "display_name": "Python 3 (ipykernel)",
   "language": "python",
   "name": "python3"
  },
  "language_info": {
   "codemirror_mode": {
    "name": "ipython",
    "version": 3
   },
   "file_extension": ".py",
   "mimetype": "text/x-python",
   "name": "python",
   "nbconvert_exporter": "python",
   "pygments_lexer": "ipython3",
   "version": "3.10.15"
  }
 },
 "nbformat": 4,
 "nbformat_minor": 4
}
